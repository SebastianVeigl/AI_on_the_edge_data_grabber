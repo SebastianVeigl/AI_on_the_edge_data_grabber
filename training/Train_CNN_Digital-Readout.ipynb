{
 "cells": [
  {
   "cell_type": "markdown",
   "metadata": {},
   "source": [
    "# CNN Training\n",
    "\n",
    "Target of this code is to train a CNN network to classify images of a digital readout to the digits 0 to 9. Additionally a category \"NaN\" is introduced, to mark images that are not amibiguous.\n",
    "\n",
    "### Preparing the training\n",
    "* First all libraries are loaded\n",
    "    * It is assumed, that they are installed during the Python setup\n",
    "* matplotlib is set to print the output inline in the jupyter notebook"
   ]
  },
  {
   "cell_type": "code",
   "execution_count": 77,
   "metadata": {
    "scrolled": true,
    "ExecuteTime": {
     "end_time": "2023-12-29T14:45:27.399468700Z",
     "start_time": "2023-12-29T14:45:27.357952100Z"
    }
   },
   "outputs": [],
   "source": [
    "########### Basic Parameters for Running: ################################\n",
    "    \n",
    "tflite_model_name_version = \"7seg2912\"   # Used for tflite Filename\n",
    "train_val_split = 0.3                   # 0.0 = Use all Images for Training\n",
    "epochs = 200\n",
    "\n",
    "##########################################################################\n",
    "\n",
    "\n",
    "import tensorflow as tf\n",
    "import matplotlib.pyplot as plt\n",
    "import glob\n",
    "import os\n",
    "import numpy as np\n",
    "from sklearn.utils import shuffle\n",
    "from tensorflow.python import keras\n",
    "from tensorflow.keras.preprocessing.image import ImageDataGenerator\n",
    "from sklearn.model_selection import train_test_split\n",
    "from tensorflow.keras.utils import to_categorical\n",
    "from PIL import Image \n",
    "from pathlib import Path\n",
    "\n",
    "total_loss = np.array([])\n",
    "total_val_loss = np.array([])\n",
    "\n",
    "%matplotlib inline\n",
    "np.set_printoptions(precision=4)\n",
    "np.set_printoptions(suppress=True)"
   ]
  },
  {
   "cell_type": "markdown",
   "metadata": {},
   "source": [
    "### Load training data\n",
    "* The data is expected in the \"Input_dir\"\n",
    "* Inside files are expected from NaN, 0, 1, ... 9 in which the pictures are sorted according to their values (=category)\n",
    "* Picture size must be 20x32 with 3 color channels (RGB)\n",
    "* The filename after the correct digit at index 0 can be arbitrary\n",
    "\n",
    "* The images are stored in x_data\n",
    "* The expected category for each image is stored in y_data\n",
    "\n",
    "* The last step is a shuffle (from sklearn.utils) and split the data into training and validation data"
   ]
  },
  {
   "cell_type": "code",
   "execution_count": 78,
   "metadata": {
    "ExecuteTime": {
     "end_time": "2023-12-29T14:45:29.341824500Z",
     "start_time": "2023-12-29T14:45:27.372959600Z"
    }
   },
   "outputs": [
    {
     "name": "stdout",
     "output_type": "stream",
     "text": [
      "(5789, 32, 20, 3)\n",
      "(5789, 11)\n"
     ]
    }
   ],
   "source": [
    "input_dir = 'digits_resized'\n",
    "\n",
    "files = glob.glob(input_dir + '/*.jpg')\n",
    "x_data = []\n",
    "y_data = []\n",
    "\n",
    "for cur_file in files:\n",
    "    base = os.path.basename(cur_file)\n",
    "    target = base[0:1]\n",
    "    if target == \"N\":\n",
    "        category = 10                \n",
    "    else:\n",
    "        category = int(target)\n",
    "    test_image = Image.open(cur_file)\n",
    "    test_image = np.array(test_image, dtype=\"float32\")\n",
    "    x_data.append(test_image)\n",
    "    y_data.append(np.array([category]))\n",
    "\n",
    "x_data = np.array(x_data)\n",
    "y_data = np.array(y_data)\n",
    "y_data = to_categorical(y_data, 11)\n",
    "print(x_data.shape)\n",
    "print(y_data.shape)\n",
    "\n",
    "x_data, y_data = shuffle(x_data, y_data)\n",
    "\n",
    "if train_val_split > 0.0:\n",
    "    X_train, X_val, y_train, y_val = train_test_split(x_data, y_data, test_size=train_val_split)\n",
    "else:\n",
    "    X_train = x_data\n",
    "    y_train = y_data\n",
    "    \n",
    "    X_val = np.array([])\n",
    "    y_val = np.array([])"
   ]
  },
  {
   "cell_type": "markdown",
   "metadata": {},
   "source": [
    "### Define the model\n",
    "\n",
    "The layout of the network ist a typcial CNN network with alternating **Conv2D** and **MaxPool2D** layers. Finished after **flattening** with additional **Dense** layer.\n",
    "\n",
    "#### Important\n",
    "* Shape of the input layer: (32, 20, 3)\n",
    "* Number of output layers: 11\n",
    "* As loss function \"categorical_crossentropy\" is choosen, as it is a categories task"
   ]
  },
  {
   "cell_type": "code",
   "execution_count": 79,
   "outputs": [
    {
     "name": "stdout",
     "output_type": "stream",
     "text": [
      "Model: \"sequential_8\"\n",
      "_________________________________________________________________\n",
      " Layer (type)                Output Shape              Param #   \n",
      "=================================================================\n",
      " batch_normalization_8 (Bat  (None, 32, 20, 3)         12        \n",
      " chNormalization)                                                \n",
      "                                                                 \n",
      " conv2d_24 (Conv2D)          (None, 32, 20, 32)        896       \n",
      "                                                                 \n",
      " max_pooling2d_24 (MaxPooli  (None, 16, 10, 32)        0         \n",
      " ng2D)                                                           \n",
      "                                                                 \n",
      " conv2d_25 (Conv2D)          (None, 16, 10, 32)        9248      \n",
      "                                                                 \n",
      " max_pooling2d_25 (MaxPooli  (None, 8, 5, 32)          0         \n",
      " ng2D)                                                           \n",
      "                                                                 \n",
      " conv2d_26 (Conv2D)          (None, 8, 5, 32)          9248      \n",
      "                                                                 \n",
      " max_pooling2d_26 (MaxPooli  (None, 4, 2, 32)          0         \n",
      " ng2D)                                                           \n",
      "                                                                 \n",
      " flatten_8 (Flatten)         (None, 256)               0         \n",
      "                                                                 \n",
      " dense_16 (Dense)            (None, 128)               32896     \n",
      "                                                                 \n",
      " dropout_6 (Dropout)         (None, 128)               0         \n",
      "                                                                 \n",
      " dense_17 (Dense)            (None, 11)                1419      \n",
      "                                                                 \n",
      "=================================================================\n",
      "Total params: 53719 (209.84 KB)\n",
      "Trainable params: 53713 (209.82 KB)\n",
      "Non-trainable params: 6 (24.00 Byte)\n",
      "_________________________________________________________________\n"
     ]
    }
   ],
   "source": [
    "model = tf.keras.Sequential([tf.keras.layers.InputLayer(input_shape=(32, 20, 3)), \n",
    "                             tf.keras.layers.BatchNormalization(), \n",
    "                             tf.keras.layers.Conv2D(32, (3, 3), padding='same', activation=\"relu\"), \n",
    "                             tf.keras.layers.MaxPool2D(pool_size=(2, 2)),\n",
    "                             tf.keras.layers.Conv2D(32, (3, 3), padding='same', activation=\"relu\"),\n",
    "                             tf.keras.layers.MaxPool2D(pool_size=(2,2)),\n",
    "                             tf.keras.layers.Conv2D(32, (3, 3), padding='same', activation=\"relu\"),\n",
    "                             tf.keras.layers.MaxPool2D(pool_size=(2,2)),\n",
    "                             tf.keras.layers.Flatten(),\n",
    "                             tf.keras.layers.Dense(128,activation=\"relu\"),\n",
    "                             tf.keras.layers.Dropout(0.2),\n",
    "                             tf.keras.layers.Dense(11, activation='softmax')])\n",
    "\n",
    "model.compile(loss=keras.losses.categorical_crossentropy, optimizer=tf.keras.optimizers.Adadelta(learning_rate=1.0, rho=0.95), metrics = [\"accuracy\"])\n",
    "\n",
    "model.summary()"
   ],
   "metadata": {
    "collapsed": false,
    "ExecuteTime": {
     "end_time": "2023-12-29T14:45:29.434722400Z",
     "start_time": "2023-12-29T14:45:29.345812500Z"
    }
   }
  },
  {
   "cell_type": "markdown",
   "metadata": {},
   "source": [
    "# Training\n",
    "The input pictures are randomly scattered for brightness, pixel shift variations and rotation angle. This is implemented with a ImageDataGenerator.\n"
   ]
  },
  {
   "cell_type": "code",
   "execution_count": 80,
   "metadata": {
    "scrolled": true,
    "ExecuteTime": {
     "end_time": "2023-12-29T14:49:19.470414Z",
     "start_time": "2023-12-29T14:45:29.433343800Z"
    }
   },
   "outputs": [
    {
     "name": "stdout",
     "output_type": "stream",
     "text": [
      "Epoch 1/200\n",
      "1447/1448 [============================>.] - ETA: 0s - loss: 0.6291 - accuracy: 0.7912\n",
      "Epoch 1: val_accuracy improved from -inf to 0.90961, saving model to checkpoint\\best.ckpt\n",
      "1448/1448 [==============================] - 7s 4ms/step - loss: 0.6297 - accuracy: 0.7912 - val_loss: 0.2652 - val_accuracy: 0.9096\n",
      "Epoch 2/200\n",
      "1445/1448 [============================>.] - ETA: 0s - loss: 0.2548 - accuracy: 0.9167\n",
      "Epoch 2: val_accuracy improved from 0.90961 to 0.94761, saving model to checkpoint\\best.ckpt\n",
      "1448/1448 [==============================] - 6s 4ms/step - loss: 0.2543 - accuracy: 0.9169 - val_loss: 0.1615 - val_accuracy: 0.9476\n",
      "Epoch 3/200\n",
      "1443/1448 [============================>.] - ETA: 0s - loss: 0.2092 - accuracy: 0.9269\n",
      "Epoch 3: val_accuracy did not improve from 0.94761\n",
      "1448/1448 [==============================] - 6s 4ms/step - loss: 0.2094 - accuracy: 0.9266 - val_loss: 0.2308 - val_accuracy: 0.9223\n",
      "Epoch 4/200\n",
      "1440/1448 [============================>.] - ETA: 0s - loss: 0.1753 - accuracy: 0.9411\n",
      "Epoch 4: val_accuracy improved from 0.94761 to 0.96373, saving model to checkpoint\\best.ckpt\n",
      "1448/1448 [==============================] - 6s 4ms/step - loss: 0.1764 - accuracy: 0.9409 - val_loss: 0.1285 - val_accuracy: 0.9637\n",
      "Epoch 5/200\n",
      "1436/1448 [============================>.] - ETA: 0s - loss: 0.1644 - accuracy: 0.9446\n",
      "Epoch 5: val_accuracy did not improve from 0.96373\n",
      "1448/1448 [==============================] - 6s 4ms/step - loss: 0.1633 - accuracy: 0.9449 - val_loss: 0.1147 - val_accuracy: 0.9609\n",
      "Epoch 6/200\n",
      "1438/1448 [============================>.] - ETA: 0s - loss: 0.1550 - accuracy: 0.9497\n",
      "Epoch 6: val_accuracy did not improve from 0.96373\n",
      "1448/1448 [==============================] - 6s 4ms/step - loss: 0.1544 - accuracy: 0.9497 - val_loss: 0.1315 - val_accuracy: 0.9545\n",
      "Epoch 7/200\n",
      "1440/1448 [============================>.] - ETA: 0s - loss: 0.1307 - accuracy: 0.9554\n",
      "Epoch 7: val_accuracy improved from 0.96373 to 0.96431, saving model to checkpoint\\best.ckpt\n",
      "1448/1448 [==============================] - 6s 4ms/step - loss: 0.1311 - accuracy: 0.9553 - val_loss: 0.1117 - val_accuracy: 0.9643\n",
      "Epoch 8/200\n",
      "1439/1448 [============================>.] - ETA: 0s - loss: 0.1305 - accuracy: 0.9576\n",
      "Epoch 8: val_accuracy did not improve from 0.96431\n",
      "1448/1448 [==============================] - 8s 5ms/step - loss: 0.1320 - accuracy: 0.9575 - val_loss: 0.1138 - val_accuracy: 0.9603\n",
      "Epoch 9/200\n",
      "1443/1448 [============================>.] - ETA: 0s - loss: 0.1250 - accuracy: 0.9586\n",
      "Epoch 9: val_accuracy did not improve from 0.96431\n",
      "1448/1448 [==============================] - 8s 5ms/step - loss: 0.1247 - accuracy: 0.9587 - val_loss: 0.1087 - val_accuracy: 0.9632\n",
      "Epoch 10/200\n",
      "1443/1448 [============================>.] - ETA: 0s - loss: 0.1146 - accuracy: 0.9596\n",
      "Epoch 10: val_accuracy did not improve from 0.96431\n",
      "1448/1448 [==============================] - 7s 5ms/step - loss: 0.1153 - accuracy: 0.9592 - val_loss: 0.1115 - val_accuracy: 0.9643\n",
      "Epoch 11/200\n",
      "1445/1448 [============================>.] - ETA: 0s - loss: 0.1126 - accuracy: 0.9631\n",
      "Epoch 11: val_accuracy improved from 0.96431 to 0.96718, saving model to checkpoint\\best.ckpt\n",
      "1448/1448 [==============================] - 7s 5ms/step - loss: 0.1134 - accuracy: 0.9630 - val_loss: 0.1195 - val_accuracy: 0.9672\n",
      "Epoch 12/200\n",
      "1448/1448 [==============================] - ETA: 0s - loss: 0.1132 - accuracy: 0.9622\n",
      "Epoch 12: val_accuracy did not improve from 0.96718\n",
      "1448/1448 [==============================] - 7s 5ms/step - loss: 0.1132 - accuracy: 0.9622 - val_loss: 0.0990 - val_accuracy: 0.9626\n",
      "Epoch 13/200\n",
      "1440/1448 [============================>.] - ETA: 0s - loss: 0.1119 - accuracy: 0.9599\n",
      "Epoch 13: val_accuracy improved from 0.96718 to 0.96949, saving model to checkpoint\\best.ckpt\n",
      "1448/1448 [==============================] - 7s 5ms/step - loss: 0.1116 - accuracy: 0.9599 - val_loss: 0.0804 - val_accuracy: 0.9695\n",
      "Epoch 14/200\n",
      "1437/1448 [============================>.] - ETA: 0s - loss: 0.1084 - accuracy: 0.9643\n",
      "Epoch 14: val_accuracy improved from 0.96949 to 0.97524, saving model to checkpoint\\best.ckpt\n",
      "1448/1448 [==============================] - 7s 5ms/step - loss: 0.1085 - accuracy: 0.9644 - val_loss: 0.0669 - val_accuracy: 0.9752\n",
      "Epoch 15/200\n",
      "1437/1448 [============================>.] - ETA: 0s - loss: 0.1045 - accuracy: 0.9647\n",
      "Epoch 15: val_accuracy did not improve from 0.97524\n",
      "1448/1448 [==============================] - 7s 5ms/step - loss: 0.1039 - accuracy: 0.9649 - val_loss: 0.1252 - val_accuracy: 0.9603\n",
      "Epoch 16/200\n",
      "1445/1448 [============================>.] - ETA: 0s - loss: 0.1110 - accuracy: 0.9657\n",
      "Epoch 16: val_accuracy improved from 0.97524 to 0.97640, saving model to checkpoint\\best.ckpt\n",
      "1448/1448 [==============================] - 7s 5ms/step - loss: 0.1108 - accuracy: 0.9658 - val_loss: 0.0573 - val_accuracy: 0.9764\n",
      "Epoch 17/200\n",
      "1440/1448 [============================>.] - ETA: 0s - loss: 0.0834 - accuracy: 0.9736\n",
      "Epoch 17: val_accuracy improved from 0.97640 to 0.97812, saving model to checkpoint\\best.ckpt\n",
      "1448/1448 [==============================] - 7s 5ms/step - loss: 0.0839 - accuracy: 0.9732 - val_loss: 0.0763 - val_accuracy: 0.9781\n",
      "Epoch 18/200\n",
      "1443/1448 [============================>.] - ETA: 0s - loss: 0.1021 - accuracy: 0.9704\n",
      "Epoch 18: val_accuracy improved from 0.97812 to 0.98273, saving model to checkpoint\\best.ckpt\n",
      "1448/1448 [==============================] - 7s 5ms/step - loss: 0.1017 - accuracy: 0.9705 - val_loss: 0.0485 - val_accuracy: 0.9827\n",
      "Epoch 19/200\n",
      "1447/1448 [============================>.] - ETA: 0s - loss: 0.0999 - accuracy: 0.9663\n",
      "Epoch 19: val_accuracy did not improve from 0.98273\n",
      "1448/1448 [==============================] - 7s 5ms/step - loss: 0.0998 - accuracy: 0.9663 - val_loss: 0.1286 - val_accuracy: 0.9557\n",
      "Epoch 20/200\n",
      "1448/1448 [==============================] - ETA: 0s - loss: 0.0916 - accuracy: 0.9701\n",
      "Epoch 20: val_accuracy did not improve from 0.98273\n",
      "1448/1448 [==============================] - 7s 5ms/step - loss: 0.0916 - accuracy: 0.9701 - val_loss: 0.1010 - val_accuracy: 0.9775\n",
      "Epoch 21/200\n",
      "1442/1448 [============================>.] - ETA: 0s - loss: 0.0977 - accuracy: 0.9658\n",
      "Epoch 21: val_accuracy did not improve from 0.98273\n",
      "1448/1448 [==============================] - 8s 5ms/step - loss: 0.0976 - accuracy: 0.9658 - val_loss: 0.1364 - val_accuracy: 0.9712\n",
      "Epoch 22/200\n",
      "1443/1448 [============================>.] - ETA: 0s - loss: 0.0996 - accuracy: 0.9685\n",
      "Epoch 22: val_accuracy did not improve from 0.98273\n",
      "1448/1448 [==============================] - 7s 5ms/step - loss: 0.0992 - accuracy: 0.9686 - val_loss: 0.0935 - val_accuracy: 0.9764\n",
      "Epoch 23/200\n",
      "1448/1448 [==============================] - ETA: 0s - loss: 0.0935 - accuracy: 0.9701\n",
      "Epoch 23: val_accuracy did not improve from 0.98273\n",
      "1448/1448 [==============================] - 7s 5ms/step - loss: 0.0935 - accuracy: 0.9701 - val_loss: 0.0502 - val_accuracy: 0.9804\n",
      "Epoch 24/200\n",
      "1445/1448 [============================>.] - ETA: 0s - loss: 0.0967 - accuracy: 0.9671\n",
      "Epoch 24: val_accuracy did not improve from 0.98273\n",
      "1448/1448 [==============================] - 7s 5ms/step - loss: 0.0968 - accuracy: 0.9670 - val_loss: 0.1119 - val_accuracy: 0.9683\n",
      "Epoch 25/200\n",
      "1447/1448 [============================>.] - ETA: 0s - loss: 0.1035 - accuracy: 0.9670\n",
      "Epoch 25: val_accuracy did not improve from 0.98273\n",
      "1448/1448 [==============================] - 7s 5ms/step - loss: 0.1035 - accuracy: 0.9670 - val_loss: 0.0940 - val_accuracy: 0.9741\n",
      "Epoch 26/200\n",
      "1436/1448 [============================>.] - ETA: 0s - loss: 0.0896 - accuracy: 0.9697\n",
      "Epoch 26: val_accuracy did not improve from 0.98273\n",
      "1448/1448 [==============================] - 7s 5ms/step - loss: 0.0890 - accuracy: 0.9698 - val_loss: 0.0698 - val_accuracy: 0.9758\n",
      "Epoch 27/200\n",
      "1445/1448 [============================>.] - ETA: 0s - loss: 0.0858 - accuracy: 0.9723\n",
      "Epoch 27: val_accuracy did not improve from 0.98273\n",
      "1448/1448 [==============================] - 7s 5ms/step - loss: 0.0857 - accuracy: 0.9724 - val_loss: 0.1081 - val_accuracy: 0.9609\n",
      "Epoch 28/200\n",
      "1446/1448 [============================>.] - ETA: 0s - loss: 0.0936 - accuracy: 0.9702\n",
      "Epoch 28: val_accuracy did not improve from 0.98273\n",
      "1448/1448 [==============================] - 7s 5ms/step - loss: 0.0939 - accuracy: 0.9701 - val_loss: 0.0438 - val_accuracy: 0.9827\n",
      "Epoch 29/200\n",
      "1444/1448 [============================>.] - ETA: 0s - loss: 0.0930 - accuracy: 0.9700\n",
      "Epoch 29: val_accuracy did not improve from 0.98273\n",
      "1448/1448 [==============================] - 7s 5ms/step - loss: 0.0929 - accuracy: 0.9699 - val_loss: 0.1124 - val_accuracy: 0.9752\n",
      "Epoch 30/200\n",
      "1441/1448 [============================>.] - ETA: 0s - loss: 0.0970 - accuracy: 0.9701\n",
      "Epoch 30: val_accuracy did not improve from 0.98273\n",
      "1448/1448 [==============================] - 7s 5ms/step - loss: 0.0972 - accuracy: 0.9701 - val_loss: 0.0564 - val_accuracy: 0.9793\n",
      "Epoch 31/200\n",
      "1443/1448 [============================>.] - ETA: 0s - loss: 0.1070 - accuracy: 0.9671\n",
      "Epoch 31: val_accuracy did not improve from 0.98273\n",
      "1448/1448 [==============================] - 7s 5ms/step - loss: 0.1068 - accuracy: 0.9672 - val_loss: 0.0740 - val_accuracy: 0.9775\n",
      "Epoch 32/200\n",
      "1448/1448 [==============================] - ETA: 0s - loss: 0.0960 - accuracy: 0.9729\n",
      "Epoch 32: val_accuracy did not improve from 0.98273\n",
      "1448/1448 [==============================] - 7s 5ms/step - loss: 0.0960 - accuracy: 0.9729 - val_loss: 0.0794 - val_accuracy: 0.9706\n",
      "Epoch 33/200\n",
      "1447/1448 [============================>.] - ETA: 0s - loss: 0.0972 - accuracy: 0.9701\n",
      "Epoch 33: val_accuracy did not improve from 0.98273\n",
      "1448/1448 [==============================] - 7s 5ms/step - loss: 0.0972 - accuracy: 0.9701 - val_loss: 0.0770 - val_accuracy: 0.9793\n"
     ]
    }
   ],
   "source": [
    "batch_size = 4\n",
    "shift_range = 1\n",
    "brightness_range = 0.3\n",
    "rotation_angle = 10\n",
    "zoom_range = 0.4\n",
    "\n",
    "datagen = ImageDataGenerator(width_shift_range=[-shift_range, shift_range],\n",
    "                             height_shift_range=[-shift_range, shift_range],\n",
    "                             brightness_range=[1 - brightness_range, 1 + brightness_range],\n",
    "                             zoom_range=[1 - zoom_range, 1 + zoom_range],\n",
    "                             rotation_range=rotation_angle)\n",
    "\n",
    "checkpoint_path = 'checkpoint/best.ckpt'\n",
    "save_best_callback = tf.keras.callbacks.ModelCheckpoint(filepath=checkpoint_path,\n",
    "                                                        save_weights_only=True,\n",
    "                                                        monitor='val_accuracy',\n",
    "                                                        mode='max',\n",
    "                                                        save_best_only=True,\n",
    "                                                        verbose=1)\n",
    "\n",
    "if train_val_split > 0.0:\n",
    "    early_stopping_callback = tf.keras.callbacks.EarlyStopping(monitor='val_accuracy', patience=15)\n",
    "    \n",
    "    train_iterator = datagen.flow(x_data, y_data, batch_size=batch_size)\n",
    "    validation_iterator = datagen.flow(X_val, y_val, batch_size=batch_size)\n",
    "    history = model.fit(train_iterator, validation_data=validation_iterator, epochs=epochs, callbacks=[early_stopping_callback, save_best_callback])\n",
    "else:\n",
    "    early_stopping_callback = tf.keras.callbacks.EarlyStopping(monitor='accuracy', patience=15)\n",
    "    \n",
    "    train_iterator = datagen.flow(x_data, y_data, batch_size=batch_size)\n",
    "    history = model.fit(train_iterator, epochs=epochs, callbacks=[early_stopping_callback, save_best_callback])"
   ]
  },
  {
   "cell_type": "code",
   "execution_count": 81,
   "outputs": [
    {
     "data": {
      "text/plain": "<tensorflow.python.checkpoint.checkpoint.CheckpointLoadStatus at 0x2afd00a6c80>"
     },
     "execution_count": 81,
     "metadata": {},
     "output_type": "execute_result"
    }
   ],
   "source": [
    "# Load best weights\n",
    "model.load_weights(checkpoint_path)"
   ],
   "metadata": {
    "collapsed": false,
    "ExecuteTime": {
     "end_time": "2023-12-29T14:49:19.509216400Z",
     "start_time": "2023-12-29T14:49:19.470414Z"
    }
   }
  },
  {
   "cell_type": "markdown",
   "metadata": {},
   "source": [
    "### Learing result\n",
    " \n",
    "* Visualization of the training and validation results"
   ]
  },
  {
   "cell_type": "code",
   "execution_count": 82,
   "metadata": {
    "ExecuteTime": {
     "end_time": "2023-12-29T14:49:19.658654300Z",
     "start_time": "2023-12-29T14:49:19.500925600Z"
    }
   },
   "outputs": [
    {
     "data": {
      "text/plain": "<Figure size 640x480 with 1 Axes>",
      "image/png": "[encoded data removed]"
     },
     "metadata": {},
     "output_type": "display_data"
    }
   ],
   "source": [
    "total_loss = np.append(total_loss, history.history['loss'])\n",
    "plt.semilogy(history.history['loss'])\n",
    "\n",
    "if train_val_split > 0:\n",
    "    total_val_loss = np.append(total_val_loss, history.history['val_loss'])\n",
    "    plt.semilogy(history.history['val_loss'])\n",
    "\n",
    "plt.title('model loss')\n",
    "plt.ylabel('loss')\n",
    "plt.xlabel('epoch')\n",
    "plt.legend(['train','val'], loc='upper left')\n",
    "plt.show()"
   ]
  },
  {
   "cell_type": "markdown",
   "metadata": {},
   "source": [
    "### Check the model by hand\n",
    "\n",
    "* The following code uses the trained model to check the deviation for each picture.\n",
    "* x-axis walks through each pixel, y-axis shows the result"
   ]
  },
  {
   "cell_type": "markdown",
   "metadata": {},
   "source": [
    "### Check each image for expected and deviation\n",
    "* setting the switch \"only_deviation = true\" will only print the images for which the classification and the CNN-result deviates\n",
    "\n",
    "The output contains the following information:\n",
    "\n",
    "| Filename      | Expected Category           | Predicted Category        |\n",
    "|------------- |:-----------------------------:|--------------|\n",
    "| ziffer_sortiert_resize_NaN/5\\Ziffer_4_0034.jpg | 4  | -1 |\n"
   ]
  },
  {
   "cell_type": "code",
   "execution_count": 83,
   "metadata": {
    "ExecuteTime": {
     "end_time": "2023-12-29T14:53:40.282193600Z",
     "start_time": "2023-12-29T14:49:19.657653200Z"
    }
   },
   "outputs": [
    {
     "name": "stdout",
     "output_type": "stream",
     "text": [
      "digits_resized\\5_29_12_2023_14_14_46.jpg 5 6\n"
     ]
    },
    {
     "data": {
      "text/plain": "<PIL.JpegImagePlugin.JpegImageFile image mode=RGB size=20x32>",
      "image/png": "[encoded data removed]",
      "image/jpeg": "[encoded data removed]"
     },
     "metadata": {},
     "output_type": "display_data"
    },
    {
     "name": "stdout",
     "output_type": "stream",
     "text": [
      "digits_resized\\5_29_12_2023_14_51_34.jpg 5 9\n"
     ]
    },
    {
     "data": {
      "text/plain": "<PIL.JpegImagePlugin.JpegImageFile image mode=RGB size=20x32>",
      "image/png": "[encoded data removed]",
      "image/jpeg": "[encoded data removed]"
     },
     "metadata": {},
     "output_type": "display_data"
    },
    {
     "name": "stdout",
     "output_type": "stream",
     "text": [
      "digits_resized\\5_29_12_2023_14_57_54.jpg 5 6\n"
     ]
    },
    {
     "data": {
      "text/plain": "<PIL.JpegImagePlugin.JpegImageFile image mode=RGB size=20x32>",
      "image/png": "[encoded data removed]",
      "image/jpeg": "[encoded data removed]"
     },
     "metadata": {},
     "output_type": "display_data"
    },
    {
     "name": "stdout",
     "output_type": "stream",
     "text": [
      "digits_resized\\5_29_12_2023_15_05_08.jpg 5 6\n"
     ]
    },
    {
     "data": {
      "text/plain": "<PIL.JpegImagePlugin.JpegImageFile image mode=RGB size=20x32>",
      "image/png": "[encoded data removed]",
      "image/jpeg": "[encoded data removed]"
     },
     "metadata": {},
     "output_type": "display_data"
    },
    {
     "name": "stdout",
     "output_type": "stream",
     "text": [
      "digits_resized\\5_29_12_2023_15_19_49.jpg 5 6\n"
     ]
    },
    {
     "data": {
      "text/plain": "<PIL.JpegImagePlugin.JpegImageFile image mode=RGB size=20x32>",
      "image/png": "[encoded data removed]",
      "image/jpeg": "[encoded data removed]"
     },
     "metadata": {},
     "output_type": "display_data"
    },
    {
     "name": "stdout",
     "output_type": "stream",
     "text": [
      "digits_resized\\5_29_12_2023_15_35_16.jpg 5 9\n"
     ]
    },
    {
     "data": {
      "text/plain": "<PIL.JpegImagePlugin.JpegImageFile image mode=RGB size=20x32>",
      "image/png": "[encoded data removed]",
      "image/jpeg": "[encoded data removed]"
     },
     "metadata": {},
     "output_type": "display_data"
    },
    {
     "name": "stdout",
     "output_type": "stream",
     "text": [
      "digits_resized\\9_29_12_2023_15_33_57.jpg 9 3\n"
     ]
    },
    {
     "data": {
      "text/plain": "<PIL.JpegImagePlugin.JpegImageFile image mode=RGB size=20x32>",
      "image/png": "[encoded data removed]",
      "image/jpeg": "[encoded data removed]"
     },
     "metadata": {},
     "output_type": "display_data"
    },
    {
     "data": {
      "text/plain": "<Figure size 640x480 with 1 Axes>",
      "image/png": "[encoded data removed]"
     },
     "metadata": {},
     "output_type": "display_data"
    }
   ],
   "source": [
    "res = []\n",
    "only_deviation = True\n",
    "show_wrong_image = True\n",
    "\n",
    "files = glob.glob(input_dir + '/*.jpg')\n",
    "\n",
    "for cur_file in files:\n",
    "    base = os.path.basename(cur_file)\n",
    "    target = base[0:1]\n",
    "    if target == \"N\":\n",
    "        zw1 = -1\n",
    "    else:\n",
    "        zw1 = int(target)\n",
    "    expected_class = zw1\n",
    "    image_in = Image.open(cur_file)\n",
    "    test_image = np.array(image_in, dtype=\"float32\")\n",
    "    img = np.reshape(test_image,[1,32,20,3])\n",
    "    classes = np.argmax(model.predict(img, verbose=0), axis=-1)\n",
    "    classes = classes[0]\n",
    "    if classes == 10: \n",
    "        classes = -1\n",
    "    zw2 = classes\n",
    "    zw3 = zw2 - zw1\n",
    "    res.append(np.array([zw1, zw2, zw3]))\n",
    "    if only_deviation:\n",
    "        if str(classes) != str(expected_class):\n",
    "            print(cur_file + \" \" + str(expected_class) + \" \" + str(classes))\n",
    "            if show_wrong_image:\n",
    "                display(image_in)\n",
    "        \n",
    "res = np.asarray(res)\n",
    "\n",
    "plt.plot(res[:,0])\n",
    "plt.plot(res[:,1])\n",
    "plt.title('Result')\n",
    "plt.ylabel('Digital Value')\n",
    "plt.xlabel('#Picture')\n",
    "plt.legend(['real','model'], loc='upper left')\n",
    "plt.show()"
   ]
  },
  {
   "cell_type": "markdown",
   "metadata": {},
   "source": [
    "### Save the model\n",
    "\n",
    "* Save the model to the file with the \"h5\" file format"
   ]
  },
  {
   "cell_type": "code",
   "execution_count": 84,
   "outputs": [
    {
     "data": {
      "text/plain": "695291"
     },
     "execution_count": 84,
     "metadata": {},
     "output_type": "execute_result"
    }
   ],
   "source": [
    "model.save(f'../models/{tflite_model_name_version}.keras')\n",
    "Path(f'../models/{tflite_model_name_version}.keras').stat().st_size"
   ],
   "metadata": {
    "collapsed": false,
    "ExecuteTime": {
     "end_time": "2023-12-29T14:53:40.341994700Z",
     "start_time": "2023-12-29T14:53:40.280413300Z"
    }
   }
  },
  {
   "cell_type": "code",
   "execution_count": 85,
   "outputs": [
    {
     "name": "stdout",
     "output_type": "stream",
     "text": [
      "INFO:tensorflow:Assets written to: C:\\Users\\sebas\\AppData\\Local\\Temp\\tmpi7hzoylc\\assets\n"
     ]
    },
    {
     "name": "stderr",
     "output_type": "stream",
     "text": [
      "INFO:tensorflow:Assets written to: C:\\Users\\sebas\\AppData\\Local\\Temp\\tmpi7hzoylc\\assets\n"
     ]
    },
    {
     "data": {
      "text/plain": "219756"
     },
     "execution_count": 85,
     "metadata": {},
     "output_type": "execute_result"
    }
   ],
   "source": [
    "converter = tf.lite.TFLiteConverter.from_keras_model(model)\n",
    "tflite_model = converter.convert()\n",
    "\n",
    "with open(f'../models/{tflite_model_name_version}.tflite', 'wb') as h5_file:\n",
    "    h5_file.write(tflite_model)\n",
    "    \n",
    "Path(f'../models/{tflite_model_name_version}.tflite').stat().st_size"
   ],
   "metadata": {
    "ExecuteTime": {
     "end_time": "2023-12-29T14:53:41.742555300Z",
     "start_time": "2023-12-29T14:53:40.341994700Z"
    }
   }
  },
  {
   "cell_type": "code",
   "execution_count": 86,
   "metadata": {
    "ExecuteTime": {
     "end_time": "2023-12-29T14:53:44.463676200Z",
     "start_time": "2023-12-29T14:53:41.737203700Z"
    }
   },
   "outputs": [
    {
     "name": "stdout",
     "output_type": "stream",
     "text": [
      "INFO:tensorflow:Assets written to: C:\\Users\\sebas\\AppData\\Local\\Temp\\tmp6x3nl6aa\\assets\n"
     ]
    },
    {
     "name": "stderr",
     "output_type": "stream",
     "text": [
      "INFO:tensorflow:Assets written to: C:\\Users\\sebas\\AppData\\Local\\Temp\\tmp6x3nl6aa\\assets\n",
      "C:\\Users\\sebas\\PycharmProjects\\AI_on_the_edge_data_grabber\\venv\\lib\\site-packages\\tensorflow\\lite\\python\\convert.py:953: UserWarning: Statistics for quantized inputs were expected, but not specified; continuing anyway.\n",
      "  warnings.warn(\n"
     ]
    },
    {
     "data": {
      "text/plain": "62800"
     },
     "execution_count": 86,
     "metadata": {},
     "output_type": "execute_result"
    }
   ],
   "source": [
    "filename = f'../models/{tflite_model_name_version}q.tflite'\n",
    "\n",
    "def representative_dataset():\n",
    "    for n in range(x_data[0].size):\n",
    "      data = np.expand_dims(x_data[5], axis=0)\n",
    "      yield [data.astype(np.float32)]\n",
    "        \n",
    "converter2 = tf.lite.TFLiteConverter.from_keras_model(model)\n",
    "converter2.representative_dataset = representative_dataset\n",
    "converter2.optimizations = [tf.lite.Optimize.DEFAULT]\n",
    "converter2.representative_dataset = representative_dataset\n",
    "tflite_quant_model = converter2.convert()\n",
    "\n",
    "with open(filename, 'wb') as q_file:\n",
    "    q_file.write(tflite_quant_model)\n",
    "\n",
    "Path(filename).stat().st_size"
   ]
  },
  {
   "cell_type": "code",
   "execution_count": 86,
   "outputs": [],
   "source": [],
   "metadata": {
    "collapsed": false,
    "ExecuteTime": {
     "end_time": "2023-12-29T14:53:44.463676200Z",
     "start_time": "2023-12-29T14:53:44.455946200Z"
    }
   }
  }
 ],
 "metadata": {
  "kernelspec": {
   "display_name": "Python 3 (ipykernel)",
   "language": "python",
   "name": "python3"
  },
  "language_info": {
   "codemirror_mode": {
    "name": "ipython",
    "version": 3
   },
   "file_extension": ".py",
   "mimetype": "text/x-python",
   "name": "python",
   "nbconvert_exporter": "python",
   "pygments_lexer": "ipython3",
   "version": "3.9.12"
  }
 },
 "nbformat": 4,
 "nbformat_minor": 2
}
