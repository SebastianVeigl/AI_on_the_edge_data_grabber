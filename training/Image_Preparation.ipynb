{
 "cells": [
  {
   "cell_type": "markdown",
   "metadata": {},
   "source": [
    "# Image preparation\n",
    "\n",
    "The original image size is 55x90 pixels with a color depth of 3 (RGB).\n",
    "The below code can be used to transform the images in an input directory (Input_dir) to the right size (20x32 pixels) into an output directory (Output_dir). Inside the directory the pictures are stored in subdirectories according their labeling (0 ... 9).\n",
    "Any other image converter can be used as well."
   ]
  },
  {
   "cell_type": "code",
   "execution_count": 37,
   "metadata": {
    "ExecuteTime": {
     "end_time": "2023-12-29T23:49:15.401865700Z",
     "start_time": "2023-12-29T23:49:15.381425700Z"
    }
   },
   "outputs": [],
   "source": [
    "import glob\n",
    "import os\n",
    "from PIL import Image \n",
    "\n",
    "input_dir = r'../digits'\n",
    "output_dir = 'digits_resized'\n",
    "\n",
    "if not os.path.exists(output_dir):\n",
    "    os.mkdir(output_dir)\n",
    "\n",
    "target_size_x = 20\n",
    "target_size_y = 32"
   ]
  },
  {
   "cell_type": "code",
   "execution_count": 38,
   "metadata": {
    "ExecuteTime": {
     "end_time": "2023-12-29T23:49:16.462262500Z",
     "start_time": "2023-12-29T23:49:15.389349900Z"
    }
   },
   "outputs": [
    {
     "name": "stdout",
     "output_type": "stream",
     "text": [
      "5789 files have been deleted.\n"
     ]
    }
   ],
   "source": [
    "files = glob.glob(output_dir + '/*.jpg')\n",
    "i = 0\n",
    "for f in files:\n",
    "    os.remove(f)\n",
    "    i=i+1\n",
    "print(str(i) + \" files have been deleted.\")"
   ]
  },
  {
   "cell_type": "code",
   "execution_count": 39,
   "metadata": {
    "ExecuteTime": {
     "end_time": "2023-12-29T23:49:26.896650100Z",
     "start_time": "2023-12-29T23:49:16.467790600Z"
    }
   },
   "outputs": [
    {
     "name": "stdout",
     "output_type": "stream",
     "text": [
      "250 ...\n",
      "500 ...\n",
      "750 ...\n",
      "1000 ...\n",
      "1250 ...\n",
      "1500 ...\n",
      "1750 ...\n",
      "2000 ...\n",
      "2250 ...\n",
      "2500 ...\n",
      "2750 ...\n",
      "3000 ...\n",
      "3250 ...\n",
      "3500 ...\n",
      "3750 ...\n",
      "4000 ...\n",
      "4250 ...\n",
      "4500 ...\n",
      "4750 ...\n",
      "5000 ...\n",
      "5250 ...\n",
      "5500 ...\n",
      "5750 ...\n",
      "6000 ...\n",
      "6250 ...\n",
      "6500 ...\n",
      "6750 ...\n",
      "7000 ...\n",
      "7250 ...\n",
      "7500 ...\n",
      "7750 ...\n",
      "8000 ...\n",
      "8250 ...\n",
      "8500 ...\n",
      "8750 ...\n",
      "8876\n"
     ]
    }
   ],
   "source": [
    "files = glob.glob(input_dir + '/*/*.jpeg', recursive=True)\n",
    "files = files + glob.glob(input_dir + '/*.png')\n",
    "files = files + glob.glob(input_dir + '/*.bmp')\n",
    "count = 0\n",
    "for aktfile in files:\n",
    "    count = count + 1\n",
    "    if not count % 250:\n",
    "        print(str(count) + \" ...\")\n",
    "    test_image = Image.open(aktfile)\n",
    "    test_image = test_image.convert('RGB')\n",
    "    test_image = test_image.resize((target_size_x, target_size_y), Image.NEAREST)\n",
    "    base=os.path.basename(aktfile)\n",
    "    base = os.path.splitext(base)[0] + \".jpg\"\n",
    "    save_name = output_dir + '/' + base\n",
    "#    print(\"in: \" + aktfile + \"  -  out: \" + save_name)\n",
    "    test_image.save(save_name, \"JPEG\")\n",
    "print(count)"
   ]
  }
 ],
 "metadata": {
  "kernelspec": {
   "display_name": "Python 3 (ipykernel)",
   "language": "python",
   "name": "python3"
  },
  "language_info": {
   "codemirror_mode": {
    "name": "ipython",
    "version": 3
   },
   "file_extension": ".py",
   "mimetype": "text/x-python",
   "name": "python",
   "nbconvert_exporter": "python",
   "pygments_lexer": "ipython3",
   "version": "3.9.16"
  }
 },
 "nbformat": 4,
 "nbformat_minor": 2
}
