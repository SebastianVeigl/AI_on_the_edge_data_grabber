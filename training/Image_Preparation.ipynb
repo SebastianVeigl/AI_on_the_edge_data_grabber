{
 "cells": [
  {
   "cell_type": "markdown",
   "metadata": {},
   "source": [
    "# Image preparation\n",
    "\n",
    "The original image size is 55x90 pixels with a color depth of 3 (RGB).\n",
    "The below code can be used to transform the images in an input directory (Input_dir) to the right size (20x32 pixels) into an output directory (Output_dir). Inside the directory the pictures are stored in subdirectories according their labeling (0 ... 9).\n",
    "Any other image converter can be used as well."
   ]
  },
  {
   "cell_type": "code",
   "execution_count": 1,
   "metadata": {
    "ExecuteTime": {
     "end_time": "2024-01-04T12:45:34.898550Z",
     "start_time": "2024-01-04T12:45:34.872930300Z"
    }
   },
   "outputs": [],
   "source": [
    "import glob\n",
    "import os\n",
    "from PIL import Image \n",
    "\n",
    "input_dir = r'../digits'\n",
    "output_dir = 'digits_resized'\n",
    "\n",
    "if not os.path.exists(output_dir):\n",
    "    os.mkdir(output_dir)\n",
    "\n",
    "target_size_x = 20\n",
    "target_size_y = 32"
   ]
  },
  {
   "cell_type": "code",
   "execution_count": 2,
   "metadata": {
    "ExecuteTime": {
     "end_time": "2024-01-04T12:45:37.653793Z",
     "start_time": "2024-01-04T12:45:34.902548500Z"
    }
   },
   "outputs": [
    {
     "name": "stdout",
     "output_type": "stream",
     "text": [
      "9574 files have been deleted.\n"
     ]
    }
   ],
   "source": [
    "files = glob.glob(output_dir + '/*.jpg')\n",
    "i = 0\n",
    "for f in files:\n",
    "    os.remove(f)\n",
    "    i=i+1\n",
    "print(str(i) + \" files have been deleted.\")"
   ]
  },
  {
   "cell_type": "code",
   "execution_count": 3,
   "metadata": {
    "ExecuteTime": {
     "end_time": "2024-01-04T12:45:52.116461500Z",
     "start_time": "2024-01-04T12:45:37.645816200Z"
    }
   },
   "outputs": [
    {
     "name": "stdout",
     "output_type": "stream",
     "text": [
      "250 ...\n",
      "500 ...\n",
      "750 ...\n",
      "1000 ...\n",
      "1250 ...\n",
      "1500 ...\n",
      "1750 ...\n",
      "2000 ...\n",
      "2250 ...\n",
      "2500 ...\n",
      "2750 ...\n",
      "3000 ...\n",
      "3250 ...\n",
      "3500 ...\n",
      "3750 ...\n",
      "4000 ...\n",
      "4250 ...\n",
      "4500 ...\n",
      "4750 ...\n",
      "5000 ...\n",
      "5250 ...\n",
      "5500 ...\n",
      "5750 ...\n",
      "6000 ...\n",
      "6250 ...\n",
      "6500 ...\n",
      "6750 ...\n",
      "7000 ...\n",
      "7250 ...\n",
      "7500 ...\n",
      "7750 ...\n",
      "8000 ...\n",
      "8250 ...\n",
      "8500 ...\n",
      "8750 ...\n",
      "9000 ...\n",
      "9250 ...\n",
      "9500 ...\n",
      "9574\n"
     ]
    }
   ],
   "source": [
    "files = glob.glob(input_dir + '/*/*.jpeg', recursive=True)\n",
    "files = files + glob.glob(input_dir + '/*.png')\n",
    "files = files + glob.glob(input_dir + '/*.bmp')\n",
    "count = 0\n",
    "for aktfile in files:\n",
    "    count = count + 1\n",
    "    if not count % 250:\n",
    "        print(str(count) + \" ...\")\n",
    "    test_image = Image.open(aktfile)\n",
    "    test_image = test_image.convert('RGB')\n",
    "    test_image = test_image.resize((target_size_x, target_size_y), Image.NEAREST)\n",
    "    base=os.path.basename(aktfile)\n",
    "    base = os.path.splitext(base)[0] + \".jpg\"\n",
    "    save_name = output_dir + '/' + base\n",
    "#    print(\"in: \" + aktfile + \"  -  out: \" + save_name)\n",
    "    test_image.save(save_name, \"JPEG\")\n",
    "print(count)"
   ]
  },
  {
   "cell_type": "code",
   "execution_count": 9,
   "metadata": {
    "ExecuteTime": {
     "end_time": "2024-01-04T12:45:52.130282500Z",
     "start_time": "2024-01-04T12:45:52.118459600Z"
    },
    "collapsed": false,
    "jupyter": {
     "outputs_hidden": false
    }
   },
   "outputs": [],
   "source": [
    "# files = glob.glob(output_dir + '/*.jpg')\n",
    "# files = [os.remove(f) for f in files if '2024' in f]"
   ]
  }
 ],
 "metadata": {
  "kernelspec": {
   "display_name": "Python 3 (ipykernel)",
   "language": "python",
   "name": "python3"
  },
  "language_info": {
   "codemirror_mode": {
    "name": "ipython",
    "version": 3
   },
   "file_extension": ".py",
   "mimetype": "text/x-python",
   "name": "python",
   "nbconvert_exporter": "python",
   "pygments_lexer": "ipython3",
   "version": "3.10.4"
  }
 },
 "nbformat": 4,
 "nbformat_minor": 4
}
