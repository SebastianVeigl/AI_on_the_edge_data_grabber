{
 "cells": [
  {
   "cell_type": "code",
   "execution_count": 1,
   "id": "initial_id",
   "metadata": {
    "collapsed": true,
    "ExecuteTime": {
     "end_time": "2024-01-04T12:50:36.967569300Z",
     "start_time": "2024-01-04T12:50:31.118795600Z"
    }
   },
   "outputs": [],
   "source": [
    "import os \n",
    "\n",
    "import tensorflow as tf\n",
    "import numpy as np\n",
    "from PIL import Image"
   ]
  },
  {
   "cell_type": "code",
   "execution_count": 2,
   "outputs": [],
   "source": [
    "model_version = '7seg2912'\n",
    "\n",
    "BASELINE = '../sd-card/config/dig-class11_1600_s2.tflite'\n",
    "\n",
    "MODEL_FILE_PATH = f'../models/{model_version}.keras'\n",
    "TFLITE_FILE_PATH = f'../models/{model_version}.tflite'\n",
    "TFLITE_Q_FILE_PATH = f'../models/{model_version}q.tflite'"
   ],
   "metadata": {
    "collapsed": false,
    "ExecuteTime": {
     "end_time": "2024-01-04T12:50:36.968579600Z",
     "start_time": "2024-01-04T12:50:36.948804600Z"
    }
   },
   "id": "3e41f75fb3723bca"
  },
  {
   "cell_type": "code",
   "execution_count": 3,
   "outputs": [],
   "source": [
    "def yield_image() -> tuple:\n",
    "    digits_dir = '../training/digits_resized'\n",
    "    \n",
    "    for image_path in os.listdir(digits_dir):\n",
    "        image_in = Image.open(os.path.join(digits_dir, image_path))\n",
    "        test_image = np.array(image_in, dtype=\"float32\")\n",
    "        img = np.reshape(test_image, [1, 32, 20, 3])\n",
    "        \n",
    "        correct_digit = int(image_path.split('_')[0])\n",
    "        \n",
    "        yield correct_digit, img"
   ],
   "metadata": {
    "collapsed": false,
    "ExecuteTime": {
     "end_time": "2024-01-04T12:50:36.969580400Z",
     "start_time": "2024-01-04T12:50:36.948804600Z"
    }
   },
   "id": "1adda40dd9f10e91"
  },
  {
   "cell_type": "markdown",
   "source": [
    "# AI-on-the-edge-device standard model"
   ],
   "metadata": {
    "collapsed": false
   },
   "id": "28122865d46861ee"
  },
  {
   "cell_type": "code",
   "execution_count": 4,
   "outputs": [],
   "source": [
    "# Load the TFLite model in TFLite Interpreter\n",
    "interpreter = tf.lite.Interpreter(BASELINE)\n",
    "interpreter.allocate_tensors()\n",
    "\n",
    "# Get input and output tensors.\n",
    "input_details = interpreter.get_input_details()\n",
    "output_details = interpreter.get_output_details()"
   ],
   "metadata": {
    "collapsed": false,
    "ExecuteTime": {
     "end_time": "2024-01-04T12:50:36.970581300Z",
     "start_time": "2024-01-04T12:50:36.948804600Z"
    }
   },
   "id": "852757247e0c6862"
  },
  {
   "cell_type": "code",
   "execution_count": 5,
   "outputs": [],
   "source": [
    "tf_lite_res = []\n",
    "\n",
    "for correct_digit, img in yield_image():\n",
    "    interpreter.set_tensor(input_details[0]['index'], img)\n",
    "    tflite_times = interpreter.invoke()\n",
    "    output_data = interpreter.get_tensor(output_details[0]['index'])\n",
    "    \n",
    "    pred_digit = output_data.argmax(axis=-1)[0]\n",
    "    \n",
    "    tf_lite_res.append(int(pred_digit) == int(correct_digit))"
   ],
   "metadata": {
    "collapsed": false,
    "ExecuteTime": {
     "end_time": "2024-01-04T12:50:41.274182400Z",
     "start_time": "2024-01-04T12:50:36.948804600Z"
    }
   },
   "id": "bc8192f6f7c6499e"
  },
  {
   "cell_type": "code",
   "execution_count": 6,
   "outputs": [],
   "source": [
    "baseline_arr = np.array(tf_lite_res)"
   ],
   "metadata": {
    "collapsed": false,
    "ExecuteTime": {
     "end_time": "2024-01-04T12:50:41.289537300Z",
     "start_time": "2024-01-04T12:50:41.275110700Z"
    }
   },
   "id": "5f52d046b1a702af"
  },
  {
   "cell_type": "code",
   "execution_count": 7,
   "outputs": [
    {
     "data": {
      "text/plain": "0.3140797994568623"
     },
     "execution_count": 7,
     "metadata": {},
     "output_type": "execute_result"
    }
   ],
   "source": [
    "baseline_accuracy = len(baseline_arr[baseline_arr == True]) / len(baseline_arr)\n",
    "baseline_accuracy"
   ],
   "metadata": {
    "collapsed": false,
    "ExecuteTime": {
     "end_time": "2024-01-04T12:50:41.318658600Z",
     "start_time": "2024-01-04T12:50:41.290480200Z"
    }
   },
   "id": "2624a5bed17df1ed"
  },
  {
   "cell_type": "markdown",
   "source": [
    "# Standard model"
   ],
   "metadata": {
    "collapsed": false
   },
   "id": "5326b2314a74ae8a"
  },
  {
   "cell_type": "code",
   "execution_count": 8,
   "outputs": [],
   "source": [
    "model = tf.keras.models.load_model(MODEL_FILE_PATH)"
   ],
   "metadata": {
    "collapsed": false,
    "ExecuteTime": {
     "end_time": "2024-01-04T12:50:41.494168300Z",
     "start_time": "2024-01-04T12:50:41.307525800Z"
    }
   },
   "id": "46af4173bf4ddaea"
  },
  {
   "cell_type": "code",
   "execution_count": 9,
   "outputs": [],
   "source": [
    "correct_res = []\n",
    "\n",
    "for correct_digit, img in yield_image():\n",
    "    pred_digit = np.argmax(model.predict(img, verbose=0))\n",
    "    correct_res.append(int(pred_digit) == int(correct_digit))"
   ],
   "metadata": {
    "collapsed": false,
    "ExecuteTime": {
     "end_time": "2024-01-04T13:01:51.859770Z",
     "start_time": "2024-01-04T12:50:41.495158900Z"
    }
   },
   "id": "878c2da2756afdd4"
  },
  {
   "cell_type": "code",
   "execution_count": 10,
   "outputs": [],
   "source": [
    "std_arr = np.array(correct_res)"
   ],
   "metadata": {
    "collapsed": false,
    "ExecuteTime": {
     "end_time": "2024-01-04T13:01:51.860702500Z",
     "start_time": "2024-01-04T13:01:51.790021900Z"
    }
   },
   "id": "b50f06f039a33131"
  },
  {
   "cell_type": "code",
   "execution_count": 11,
   "outputs": [
    {
     "data": {
      "text/plain": "0.9975976603300606"
     },
     "execution_count": 11,
     "metadata": {},
     "output_type": "execute_result"
    }
   ],
   "source": [
    "standard_accuracy = len(std_arr[std_arr == True]) / len(std_arr)\n",
    "standard_accuracy"
   ],
   "metadata": {
    "collapsed": false,
    "ExecuteTime": {
     "end_time": "2024-01-04T13:01:51.864693200Z",
     "start_time": "2024-01-04T13:01:51.813975200Z"
    }
   },
   "id": "98203bbd181db028"
  },
  {
   "cell_type": "markdown",
   "source": [
    "# TFLite model"
   ],
   "metadata": {
    "collapsed": false
   },
   "id": "207fae34b0c114cd"
  },
  {
   "cell_type": "code",
   "execution_count": 12,
   "outputs": [],
   "source": [
    "# Load the TFLite model in TFLite Interpreter\n",
    "interpreter = tf.lite.Interpreter(TFLITE_FILE_PATH)\n",
    "interpreter.allocate_tensors()\n",
    "\n",
    "# Get input and output tensors.\n",
    "input_details = interpreter.get_input_details()\n",
    "output_details = interpreter.get_output_details()"
   ],
   "metadata": {
    "collapsed": false,
    "ExecuteTime": {
     "end_time": "2024-01-04T13:01:51.865739100Z",
     "start_time": "2024-01-04T13:01:51.830033500Z"
    }
   },
   "id": "5d737be1776d8214"
  },
  {
   "cell_type": "code",
   "execution_count": 13,
   "outputs": [],
   "source": [
    "tf_lite_res = []\n",
    "\n",
    "for correct_digit, img in yield_image():\n",
    "    interpreter.set_tensor(input_details[0]['index'], img)\n",
    "    tflite_times = interpreter.invoke()\n",
    "    output_data = interpreter.get_tensor(output_details[0]['index'])\n",
    "    \n",
    "    pred_digit = output_data.argmax(axis=-1)[0]\n",
    "    \n",
    "    tf_lite_res.append(int(pred_digit) == int(correct_digit))"
   ],
   "metadata": {
    "collapsed": false,
    "ExecuteTime": {
     "end_time": "2024-01-04T13:01:58.543523700Z",
     "start_time": "2024-01-04T13:01:51.862692100Z"
    }
   },
   "id": "5b1592613ff55f69"
  },
  {
   "cell_type": "code",
   "execution_count": 14,
   "outputs": [],
   "source": [
    "tflite_arr = np.array(tf_lite_res)"
   ],
   "metadata": {
    "collapsed": false,
    "ExecuteTime": {
     "end_time": "2024-01-04T13:01:58.558035800Z",
     "start_time": "2024-01-04T13:01:58.546485700Z"
    }
   },
   "id": "da55eabad8c76af6"
  },
  {
   "cell_type": "code",
   "execution_count": 15,
   "outputs": [
    {
     "data": {
      "text/plain": "0.9975976603300606"
     },
     "execution_count": 15,
     "metadata": {},
     "output_type": "execute_result"
    }
   ],
   "source": [
    "tflite_accuracy = len(tflite_arr[tflite_arr == True]) / len(tflite_arr)\n",
    "tflite_accuracy"
   ],
   "metadata": {
    "collapsed": false,
    "ExecuteTime": {
     "end_time": "2024-01-04T13:01:58.589416700Z",
     "start_time": "2024-01-04T13:01:58.560035500Z"
    }
   },
   "id": "b107868f4b2f20aa"
  },
  {
   "cell_type": "markdown",
   "source": [
    "# TLITE quantized model"
   ],
   "metadata": {
    "collapsed": false
   },
   "id": "162e824357772950"
  },
  {
   "cell_type": "code",
   "execution_count": 16,
   "outputs": [],
   "source": [
    "# Load the TFLite model in TFLite Interpreter\n",
    "interpreter = tf.lite.Interpreter(TFLITE_Q_FILE_PATH)\n",
    "interpreter.allocate_tensors()\n",
    "\n",
    "# Get input and output tensors.\n",
    "input_details = interpreter.get_input_details()\n",
    "output_details = interpreter.get_output_details()"
   ],
   "metadata": {
    "collapsed": false,
    "ExecuteTime": {
     "end_time": "2024-01-04T13:01:58.619511Z",
     "start_time": "2024-01-04T13:01:58.576415500Z"
    }
   },
   "id": "b9ae750158dcdb0a"
  },
  {
   "cell_type": "code",
   "execution_count": 17,
   "outputs": [],
   "source": [
    "tf_lite_q_res = []\n",
    "\n",
    "for correct_digit, img in yield_image():\n",
    "    interpreter.set_tensor(input_details[0]['index'], img)\n",
    "    tflite_times = interpreter.invoke()\n",
    "    output_data = interpreter.get_tensor(output_details[0]['index'])\n",
    "    \n",
    "    pred_digit = output_data.argmax(axis=-1)[0]\n",
    "    \n",
    "    tf_lite_q_res.append(int(pred_digit) == int(correct_digit))"
   ],
   "metadata": {
    "collapsed": false,
    "ExecuteTime": {
     "end_time": "2024-01-04T13:04:47.358784600Z",
     "start_time": "2024-01-04T13:01:58.602415400Z"
    }
   },
   "id": "2b27067ff84891d8"
  },
  {
   "cell_type": "code",
   "execution_count": 18,
   "outputs": [],
   "source": [
    "tflite_q_arr = np.array(tf_lite_q_res)"
   ],
   "metadata": {
    "collapsed": false,
    "ExecuteTime": {
     "end_time": "2024-01-04T13:04:47.389173100Z",
     "start_time": "2024-01-04T13:04:47.371175400Z"
    }
   },
   "id": "d3d3826ed1c19a6a"
  },
  {
   "cell_type": "code",
   "execution_count": 19,
   "outputs": [
    {
     "data": {
      "text/plain": "0.9975976603300606"
     },
     "execution_count": 19,
     "metadata": {},
     "output_type": "execute_result"
    }
   ],
   "source": [
    "q_accuracy = len(tflite_arr[tflite_arr == True]) / len(tflite_arr)\n",
    "q_accuracy"
   ],
   "metadata": {
    "collapsed": false,
    "ExecuteTime": {
     "end_time": "2024-01-04T13:04:47.405225600Z",
     "start_time": "2024-01-04T13:04:47.392169900Z"
    }
   },
   "id": "23bb98d40c55a409"
  },
  {
   "cell_type": "code",
   "execution_count": 20,
   "outputs": [
    {
     "data": {
      "text/plain": "23"
     },
     "execution_count": 20,
     "metadata": {},
     "output_type": "execute_result"
    }
   ],
   "source": [
    "len(tflite_arr[tflite_arr == False])"
   ],
   "metadata": {
    "collapsed": false,
    "ExecuteTime": {
     "end_time": "2024-01-04T13:04:47.424922900Z",
     "start_time": "2024-01-04T13:04:47.405225600Z"
    }
   },
   "id": "681e895e2f8c05df"
  },
  {
   "cell_type": "markdown",
   "source": [
    "# Plots"
   ],
   "metadata": {
    "collapsed": false
   },
   "id": "eba1de3036284e8c"
  },
  {
   "cell_type": "code",
   "execution_count": 28,
   "outputs": [
    {
     "data": {
      "text/plain": "Text(0, 0.5, 'accuracy')"
     },
     "execution_count": 28,
     "metadata": {},
     "output_type": "execute_result"
    },
    {
     "data": {
      "text/plain": "<Figure size 640x480 with 1 Axes>",
      "image/png": "[encoded data removed]"
     },
     "metadata": {},
     "output_type": "display_data"
    }
   ],
   "source": [
    "import matplotlib.pyplot as plt \n",
    "\n",
    "def add_labels(x, y):\n",
    "    for i, y_i in enumerate(y):\n",
    "        y_display = np.round(y_i * 100, 2)\n",
    "        \n",
    "        plt.text(i, y_i + 0.01, f'{y_display}%', ha = 'center')\n",
    "\n",
    "models = ['baseline', 'standard', 'tflite', 'tflite quantized']\n",
    "accuracies = [baseline_accuracy, standard_accuracy, tflite_accuracy, q_accuracy]\n",
    "\n",
    "bar_colors = ['tab:red', 'tab:green', 'tab:blue', 'tab:blue']\n",
    "\n",
    "plt.title('Model accuracy')\n",
    "plt.bar(models, accuracies, color=bar_colors)\n",
    "\n",
    "add_labels(models, accuracies)\n",
    "\n",
    "plt.ylabel('accuracy')"
   ],
   "metadata": {
    "collapsed": false,
    "ExecuteTime": {
     "end_time": "2024-01-04T13:15:29.274804700Z",
     "start_time": "2024-01-04T13:15:28.952634400Z"
    }
   },
   "id": "a008b6caf316ed9c"
  },
  {
   "cell_type": "code",
   "execution_count": 24,
   "outputs": [],
   "source": [],
   "metadata": {
    "collapsed": false,
    "ExecuteTime": {
     "end_time": "2024-01-04T13:14:15.122336500Z",
     "start_time": "2024-01-04T13:14:15.108338Z"
    }
   },
   "id": "3399334082f00ed2"
  },
  {
   "cell_type": "code",
   "execution_count": null,
   "outputs": [],
   "source": [],
   "metadata": {
    "collapsed": false
   },
   "id": "b3dd929f8e0e2f24"
  }
 ],
 "metadata": {
  "kernelspec": {
   "display_name": "Python 3",
   "language": "python",
   "name": "python3"
  },
  "language_info": {
   "codemirror_mode": {
    "name": "ipython",
    "version": 2
   },
   "file_extension": ".py",
   "mimetype": "text/x-python",
   "name": "python",
   "nbconvert_exporter": "python",
   "pygments_lexer": "ipython2",
   "version": "2.7.6"
  }
 },
 "nbformat": 4,
 "nbformat_minor": 5
}
