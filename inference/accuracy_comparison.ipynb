{
 "cells": [
  {
   "cell_type": "code",
   "execution_count": 80,
   "id": "initial_id",
   "metadata": {
    "collapsed": true,
    "ExecuteTime": {
     "end_time": "2023-12-29T23:49:36.105687800Z",
     "start_time": "2023-12-29T23:49:36.077485400Z"
    }
   },
   "outputs": [],
   "source": [
    "import os \n",
    "\n",
    "import tensorflow as tf\n",
    "import numpy as np\n",
    "from PIL import Image"
   ]
  },
  {
   "cell_type": "code",
   "execution_count": 81,
   "outputs": [],
   "source": [
    "model_version = '7seg2912'\n",
    "\n",
    "MODEL_FILE_PATH = f'../models/{model_version}.keras'\n",
    "TFLITE_FILE_PATH = f'../models/{model_version}.tflite'\n",
    "TFLITE_Q_FILE_PATH = f'../models/{model_version}q.tflite'"
   ],
   "metadata": {
    "collapsed": false,
    "ExecuteTime": {
     "end_time": "2023-12-29T23:49:45.824981700Z",
     "start_time": "2023-12-29T23:49:45.805820600Z"
    }
   },
   "id": "3e41f75fb3723bca"
  },
  {
   "cell_type": "code",
   "execution_count": 82,
   "outputs": [],
   "source": [
    "def yield_image() -> tuple:\n",
    "    digits_dir = '../training/digits_resized'\n",
    "    \n",
    "    for image_path in os.listdir(digits_dir):\n",
    "        image_in = Image.open(os.path.join(digits_dir, image_path))\n",
    "        test_image = np.array(image_in, dtype=\"float32\")\n",
    "        img = np.reshape(test_image, [1, 32, 20, 3])\n",
    "        \n",
    "        correct_digit = int(image_path.split('_')[0])\n",
    "        \n",
    "        yield correct_digit, img"
   ],
   "metadata": {
    "collapsed": false,
    "ExecuteTime": {
     "end_time": "2023-12-29T23:49:46.104508800Z",
     "start_time": "2023-12-29T23:49:46.085194500Z"
    }
   },
   "id": "1adda40dd9f10e91"
  },
  {
   "cell_type": "markdown",
   "source": [
    "# Standard model"
   ],
   "metadata": {
    "collapsed": false
   },
   "id": "5326b2314a74ae8a"
  },
  {
   "cell_type": "code",
   "execution_count": 67,
   "outputs": [],
   "source": [
    "model = tf.keras.models.load_model(MODEL_FILE_PATH)"
   ],
   "metadata": {
    "collapsed": false,
    "ExecuteTime": {
     "end_time": "2023-12-29T11:44:00.906747700Z",
     "start_time": "2023-12-29T11:44:00.782778900Z"
    }
   },
   "id": "46af4173bf4ddaea"
  },
  {
   "cell_type": "code",
   "execution_count": 68,
   "outputs": [],
   "source": [
    "correct_res = []\n",
    "\n",
    "for correct_digit, img in yield_image():\n",
    "    pred_digit = np.argmax(model.predict(img, verbose=0))\n",
    "    correct_res.append(int(pred_digit) == int(correct_digit))"
   ],
   "metadata": {
    "collapsed": false,
    "ExecuteTime": {
     "end_time": "2023-12-29T11:47:39.957Z",
     "start_time": "2023-12-29T11:44:00.906747700Z"
    }
   },
   "id": "878c2da2756afdd4"
  },
  {
   "cell_type": "code",
   "execution_count": 69,
   "outputs": [],
   "source": [
    "std_arr = np.array(correct_res)"
   ],
   "metadata": {
    "collapsed": false,
    "ExecuteTime": {
     "end_time": "2023-12-29T11:47:39.972172800Z",
     "start_time": "2023-12-29T11:47:39.959002Z"
    }
   },
   "id": "b50f06f039a33131"
  },
  {
   "cell_type": "code",
   "execution_count": 70,
   "outputs": [
    {
     "data": {
      "text/plain": "0.9983498349834984"
     },
     "execution_count": 70,
     "metadata": {},
     "output_type": "execute_result"
    }
   ],
   "source": [
    "len(std_arr[std_arr == True]) / len(std_arr)"
   ],
   "metadata": {
    "collapsed": false,
    "ExecuteTime": {
     "end_time": "2023-12-29T11:47:39.996707900Z",
     "start_time": "2023-12-29T11:47:39.973173900Z"
    }
   },
   "id": "98203bbd181db028"
  },
  {
   "cell_type": "markdown",
   "source": [
    "# TFLite model"
   ],
   "metadata": {
    "collapsed": false
   },
   "id": "207fae34b0c114cd"
  },
  {
   "cell_type": "code",
   "execution_count": 83,
   "outputs": [],
   "source": [
    "# Load the TFLite model in TFLite Interpreter\n",
    "interpreter = tf.lite.Interpreter(TFLITE_FILE_PATH)\n",
    "interpreter.allocate_tensors()\n",
    "\n",
    "# Get input and output tensors.\n",
    "input_details = interpreter.get_input_details()\n",
    "output_details = interpreter.get_output_details()"
   ],
   "metadata": {
    "collapsed": false,
    "ExecuteTime": {
     "end_time": "2023-12-29T23:49:56.500133600Z",
     "start_time": "2023-12-29T23:49:56.440503700Z"
    }
   },
   "id": "5d737be1776d8214"
  },
  {
   "cell_type": "code",
   "execution_count": 84,
   "outputs": [
    {
     "name": "stderr",
     "output_type": "stream",
     "text": [
      "C:\\Users\\sebas\\AppData\\Local\\Temp\\ipykernel_37400\\1032507662.py:10: DeprecationWarning: Conversion of an array with ndim > 0 to a scalar is deprecated, and will error in future. Ensure you extract a single element from your array before performing this operation. (Deprecated NumPy 1.25.)\n",
      "  tf_lite_res.append(int(pred_digit) == int(correct_digit))\n"
     ]
    }
   ],
   "source": [
    "tf_lite_res = []\n",
    "\n",
    "for correct_digit, img in yield_image():\n",
    "    interpreter.set_tensor(input_details[0]['index'], img)\n",
    "    tflite_times = interpreter.invoke()\n",
    "    output_data = interpreter.get_tensor(output_details[0]['index'])\n",
    "    \n",
    "    pred_digit = output_data.argmax(axis=-1)\n",
    "    \n",
    "    tf_lite_res.append(int(pred_digit) == int(correct_digit))"
   ],
   "metadata": {
    "collapsed": false,
    "ExecuteTime": {
     "end_time": "2023-12-29T23:50:01.118944200Z",
     "start_time": "2023-12-29T23:49:57.312452500Z"
    }
   },
   "id": "5b1592613ff55f69"
  },
  {
   "cell_type": "code",
   "execution_count": 85,
   "outputs": [],
   "source": [
    "tflite_arr = np.array(tf_lite_res)"
   ],
   "metadata": {
    "collapsed": false,
    "ExecuteTime": {
     "end_time": "2023-12-29T23:50:03.127231Z",
     "start_time": "2023-12-29T23:50:03.114717700Z"
    }
   },
   "id": "da55eabad8c76af6"
  },
  {
   "cell_type": "code",
   "execution_count": 86,
   "outputs": [
    {
     "data": {
      "text/plain": "0.999211356466877"
     },
     "execution_count": 86,
     "metadata": {},
     "output_type": "execute_result"
    }
   ],
   "source": [
    "len(tflite_arr[tflite_arr == True]) / len(tflite_arr)"
   ],
   "metadata": {
    "collapsed": false,
    "ExecuteTime": {
     "end_time": "2023-12-29T23:50:04.546732400Z",
     "start_time": "2023-12-29T23:50:04.527157200Z"
    }
   },
   "id": "b107868f4b2f20aa"
  },
  {
   "cell_type": "markdown",
   "source": [
    "# TLITE quantized model"
   ],
   "metadata": {
    "collapsed": false
   },
   "id": "162e824357772950"
  },
  {
   "cell_type": "code",
   "execution_count": 87,
   "outputs": [],
   "source": [
    "# Load the TFLite model in TFLite Interpreter\n",
    "interpreter = tf.lite.Interpreter(TFLITE_Q_FILE_PATH)\n",
    "interpreter.allocate_tensors()\n",
    "\n",
    "# Get input and output tensors.\n",
    "input_details = interpreter.get_input_details()\n",
    "output_details = interpreter.get_output_details()"
   ],
   "metadata": {
    "collapsed": false,
    "ExecuteTime": {
     "end_time": "2023-12-29T23:50:10.330360500Z",
     "start_time": "2023-12-29T23:50:10.307890400Z"
    }
   },
   "id": "b9ae750158dcdb0a"
  },
  {
   "cell_type": "code",
   "execution_count": 88,
   "outputs": [
    {
     "name": "stderr",
     "output_type": "stream",
     "text": [
      "C:\\Users\\sebas\\AppData\\Local\\Temp\\ipykernel_37400\\4026503442.py:10: DeprecationWarning: Conversion of an array with ndim > 0 to a scalar is deprecated, and will error in future. Ensure you extract a single element from your array before performing this operation. (Deprecated NumPy 1.25.)\n",
      "  tf_lite_q_res.append(int(pred_digit) == int(correct_digit))\n"
     ]
    }
   ],
   "source": [
    "tf_lite_q_res = []\n",
    "\n",
    "for correct_digit, img in yield_image():\n",
    "    interpreter.set_tensor(input_details[0]['index'], img)\n",
    "    tflite_times = interpreter.invoke()\n",
    "    output_data = interpreter.get_tensor(output_details[0]['index'])\n",
    "    \n",
    "    pred_digit = output_data.argmax(axis=-1)\n",
    "    \n",
    "    tf_lite_q_res.append(int(pred_digit) == int(correct_digit))"
   ],
   "metadata": {
    "collapsed": false,
    "ExecuteTime": {
     "end_time": "2023-12-29T23:50:13.023859300Z",
     "start_time": "2023-12-29T23:50:10.551888500Z"
    }
   },
   "id": "2b27067ff84891d8"
  },
  {
   "cell_type": "code",
   "execution_count": 89,
   "outputs": [],
   "source": [
    "tflite_q_arr = np.array(tf_lite_q_res)"
   ],
   "metadata": {
    "collapsed": false,
    "ExecuteTime": {
     "end_time": "2023-12-29T23:50:13.040577100Z",
     "start_time": "2023-12-29T23:50:13.024870500Z"
    }
   },
   "id": "d3d3826ed1c19a6a"
  },
  {
   "cell_type": "code",
   "execution_count": 90,
   "outputs": [
    {
     "data": {
      "text/plain": "0.999211356466877"
     },
     "execution_count": 90,
     "metadata": {},
     "output_type": "execute_result"
    }
   ],
   "source": [
    "len(tflite_arr[tflite_arr == True]) / len(tflite_arr)"
   ],
   "metadata": {
    "collapsed": false,
    "ExecuteTime": {
     "end_time": "2023-12-29T23:50:13.064975Z",
     "start_time": "2023-12-29T23:50:13.042587100Z"
    }
   },
   "id": "23bb98d40c55a409"
  },
  {
   "cell_type": "code",
   "execution_count": 91,
   "outputs": [
    {
     "data": {
      "text/plain": "7"
     },
     "execution_count": 91,
     "metadata": {},
     "output_type": "execute_result"
    }
   ],
   "source": [
    "len(tflite_arr[tflite_arr == False])"
   ],
   "metadata": {
    "collapsed": false,
    "ExecuteTime": {
     "end_time": "2023-12-29T23:50:13.076920200Z",
     "start_time": "2023-12-29T23:50:13.058986500Z"
    }
   },
   "id": "681e895e2f8c05df"
  },
  {
   "cell_type": "code",
   "execution_count": null,
   "outputs": [],
   "source": [],
   "metadata": {
    "collapsed": false
   },
   "id": "a008b6caf316ed9c"
  }
 ],
 "metadata": {
  "kernelspec": {
   "display_name": "Python 3",
   "language": "python",
   "name": "python3"
  },
  "language_info": {
   "codemirror_mode": {
    "name": "ipython",
    "version": 2
   },
   "file_extension": ".py",
   "mimetype": "text/x-python",
   "name": "python",
   "nbconvert_exporter": "python",
   "pygments_lexer": "ipython2",
   "version": "2.7.6"
  }
 },
 "nbformat": 4,
 "nbformat_minor": 5
}
