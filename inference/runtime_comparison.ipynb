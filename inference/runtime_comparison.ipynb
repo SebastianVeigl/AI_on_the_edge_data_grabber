{
 "cells": [
  {
   "cell_type": "code",
   "execution_count": 1,
   "id": "initial_id",
   "metadata": {
    "collapsed": true,
    "ExecuteTime": {
     "end_time": "2024-01-04T19:25:42.158458300Z",
     "start_time": "2024-01-04T19:25:36.838154300Z"
    }
   },
   "outputs": [],
   "source": [
    "import os \n",
    "import random\n",
    "\n",
    "import tensorflow as tf\n",
    "import numpy as np\n",
    "from PIL import Image"
   ]
  },
  {
   "cell_type": "code",
   "execution_count": 2,
   "outputs": [],
   "source": [
    "model_version = '7seg2912'\n",
    "\n",
    "MODEL_FILE_PATH = f'../models/{model_version}.keras'\n",
    "TFLITE_FILE_PATH = f'../models/{model_version}.tflite'\n",
    "TFLITE_Q_FILE_PATH = f'../models/{model_version}q.tflite'"
   ],
   "metadata": {
    "collapsed": false,
    "ExecuteTime": {
     "end_time": "2024-01-04T19:25:42.174958800Z",
     "start_time": "2024-01-04T19:25:42.161675800Z"
    }
   },
   "id": "294c7dea8c10387e"
  },
  {
   "cell_type": "code",
   "execution_count": 3,
   "outputs": [],
   "source": [
    "def get_image() -> tuple:\n",
    "    digits_dir = '../training/digits_resized'\n",
    "    \n",
    "    image_path = random.choice(os.listdir(digits_dir))\n",
    "    image_in = Image.open(os.path.join(digits_dir, image_path))\n",
    "    test_image = np.array(image_in, dtype=\"float32\")\n",
    "    img = np.reshape(test_image, [1, 32, 20, 3])\n",
    "    \n",
    "    correct_digit = int(image_path.split('_')[0])\n",
    "    \n",
    "    return correct_digit, img"
   ],
   "metadata": {
    "collapsed": false,
    "ExecuteTime": {
     "end_time": "2024-01-04T19:25:42.198071Z",
     "start_time": "2024-01-04T19:25:42.172740400Z"
    }
   },
   "id": "dc7eb79f150fda67"
  },
  {
   "cell_type": "markdown",
   "source": [
    "# Standard model"
   ],
   "metadata": {
    "collapsed": false
   },
   "id": "c7069d7d525b1093"
  },
  {
   "cell_type": "code",
   "execution_count": 4,
   "outputs": [],
   "source": [
    "model = tf.keras.models.load_model(MODEL_FILE_PATH)"
   ],
   "metadata": {
    "collapsed": false,
    "ExecuteTime": {
     "end_time": "2024-01-04T19:25:42.469971400Z",
     "start_time": "2024-01-04T19:25:42.190032500Z"
    }
   },
   "id": "20e98b37f6f610fb"
  },
  {
   "cell_type": "code",
   "execution_count": 5,
   "outputs": [
    {
     "name": "stdout",
     "output_type": "stream",
     "text": [
      "41.5 ms ± 2.75 ms per loop (mean ± std. dev. of 10 runs, 25 loops each)\n"
     ]
    }
   ],
   "source": [
    "_, img = get_image()\n",
    "standard_times = %timeit -r 10 -n 25 -o model.predict(img, verbose=0)"
   ],
   "metadata": {
    "collapsed": false,
    "ExecuteTime": {
     "end_time": "2024-01-04T19:25:52.984827100Z",
     "start_time": "2024-01-04T19:25:42.471176500Z"
    }
   },
   "id": "ee4f5636f2471254"
  },
  {
   "cell_type": "code",
   "execution_count": 6,
   "outputs": [
    {
     "data": {
      "text/plain": "<TimeitResult : 41.5 ms ± 2.75 ms per loop (mean ± std. dev. of 10 runs, 25 loops each)>"
     },
     "execution_count": 6,
     "metadata": {},
     "output_type": "execute_result"
    }
   ],
   "source": [
    "standard_times"
   ],
   "metadata": {
    "collapsed": false,
    "ExecuteTime": {
     "end_time": "2024-01-04T19:25:53.001975600Z",
     "start_time": "2024-01-04T19:25:52.983707700Z"
    }
   },
   "id": "45eb90a027910578"
  },
  {
   "cell_type": "markdown",
   "source": [
    "# TFLite model"
   ],
   "metadata": {
    "collapsed": false
   },
   "id": "a867f07d81a9db47"
  },
  {
   "cell_type": "code",
   "execution_count": 7,
   "outputs": [],
   "source": [
    "# Load the TFLite model in TFLite Interpreter\n",
    "interpreter = tf.lite.Interpreter(TFLITE_FILE_PATH)\n",
    "interpreter.allocate_tensors()\n",
    "\n",
    "# Get input and output tensors.\n",
    "input_details = interpreter.get_input_details()\n",
    "output_details = interpreter.get_output_details()"
   ],
   "metadata": {
    "collapsed": false,
    "ExecuteTime": {
     "end_time": "2024-01-04T19:25:53.052525100Z",
     "start_time": "2024-01-04T19:25:53.014075500Z"
    }
   },
   "id": "e242b0ca6dd1c4cd"
  },
  {
   "cell_type": "code",
   "execution_count": 8,
   "outputs": [
    {
     "name": "stdout",
     "output_type": "stream",
     "text": [
      "112 µs ± 8.42 µs per loop (mean ± std. dev. of 10 runs, 100 loops each)\n"
     ]
    }
   ],
   "source": [
    "correct_digit, img = get_image()\n",
    "interpreter.set_tensor(input_details[0]['index'], img)\n",
    "\n",
    "tflite_times = %timeit -r 10 -n 100 -o interpreter.invoke()"
   ],
   "metadata": {
    "collapsed": false,
    "ExecuteTime": {
     "end_time": "2024-01-04T19:25:53.168917Z",
     "start_time": "2024-01-04T19:25:53.026028500Z"
    }
   },
   "id": "6d9ec5bf5bd6907c"
  },
  {
   "cell_type": "code",
   "execution_count": 9,
   "outputs": [
    {
     "name": "stdout",
     "output_type": "stream",
     "text": [
      "[[6.2321925e-13 6.6350314e-17 8.4506168e-22 1.0822694e-14 1.0208887e-08\n",
      "  3.9116085e-08 9.7488061e-16 2.7673387e-17 1.8216386e-09 1.0000000e+00\n",
      "  4.3004235e-15]]\n",
      "9\n",
      "9\n"
     ]
    }
   ],
   "source": [
    "# The function `get_tensor()` returns a copy of the tensor data.\n",
    "# Use `tensor()` in order to get a pointer to the tensor.\n",
    "output_data = interpreter.get_tensor(output_details[0]['index'])\n",
    "print(output_data)\n",
    "print(output_data.argmax())\n",
    "print(correct_digit)"
   ],
   "metadata": {
    "collapsed": false,
    "ExecuteTime": {
     "end_time": "2024-01-04T19:25:53.214610100Z",
     "start_time": "2024-01-04T19:25:53.165766100Z"
    }
   },
   "id": "e8ca86b129811b7d"
  },
  {
   "cell_type": "markdown",
   "source": [
    "# TLITE quantized model"
   ],
   "metadata": {
    "collapsed": false
   },
   "id": "8417f8dfb7873c55"
  },
  {
   "cell_type": "code",
   "execution_count": 10,
   "outputs": [],
   "source": [
    "# Load the TFLite model in TFLite Interpreter\n",
    "interpreter_q = tf.lite.Interpreter(TFLITE_Q_FILE_PATH)\n",
    "interpreter_q.allocate_tensors()\n",
    "\n",
    "# Get input and output tensors.\n",
    "input_details_q = interpreter_q.get_input_details()\n",
    "output_details_q = interpreter_q.get_output_details()"
   ],
   "metadata": {
    "collapsed": false,
    "ExecuteTime": {
     "end_time": "2024-01-04T19:25:53.215719200Z",
     "start_time": "2024-01-04T19:25:53.182165400Z"
    }
   },
   "id": "20b7dd80d3faf925"
  },
  {
   "cell_type": "code",
   "execution_count": 11,
   "outputs": [
    {
     "name": "stdout",
     "output_type": "stream",
     "text": [
      "13.9 ms ± 296 µs per loop (mean ± std. dev. of 10 runs, 100 loops each)\n"
     ]
    }
   ],
   "source": [
    "correct_digit, img = get_image()\n",
    "interpreter_q.set_tensor(input_details_q[0]['index'], img)\n",
    "\n",
    "tflite_q_times = %timeit -r 10 -n 100 -o interpreter_q.invoke()"
   ],
   "metadata": {
    "collapsed": false,
    "ExecuteTime": {
     "end_time": "2024-01-04T19:26:07.079972700Z",
     "start_time": "2024-01-04T19:25:53.197825900Z"
    }
   },
   "id": "1769396b7593ca87"
  },
  {
   "cell_type": "code",
   "execution_count": 12,
   "outputs": [
    {
     "name": "stdout",
     "output_type": "stream",
     "text": [
      "[[0.         0.         0.         0.         0.         0.\n",
      "  0.         0.         0.99609375 0.         0.        ]]\n",
      "8\n",
      "8\n"
     ]
    }
   ],
   "source": [
    "# The function `get_tensor()` returns a copy of the tensor data.\n",
    "# Use `tensor()` in order to get a pointer to the tensor.\n",
    "output_data = interpreter_q.get_tensor(output_details_q[0]['index'])\n",
    "print(output_data)\n",
    "print(output_data.argmax())\n",
    "print(correct_digit)"
   ],
   "metadata": {
    "collapsed": false,
    "ExecuteTime": {
     "end_time": "2024-01-04T19:26:07.092500100Z",
     "start_time": "2024-01-04T19:26:07.078733300Z"
    }
   },
   "id": "58fcac9928739e9e"
  },
  {
   "cell_type": "markdown",
   "source": [
    "# Plots"
   ],
   "metadata": {
    "collapsed": false
   },
   "id": "2b6c0ba790574df5"
  },
  {
   "cell_type": "code",
   "execution_count": 13,
   "outputs": [
    {
     "data": {
      "text/plain": "Text(0, 0.5, 'runtime in ms')"
     },
     "execution_count": 13,
     "metadata": {},
     "output_type": "execute_result"
    },
    {
     "data": {
      "text/plain": "<Figure size 640x480 with 1 Axes>",
      "image/png": "[encoded data removed]"
     },
     "metadata": {},
     "output_type": "display_data"
    }
   ],
   "source": [
    "import matplotlib.pyplot as plt \n",
    "\n",
    "def add_labels(x, y):\n",
    "    for i, y_i in enumerate(y):\n",
    "        y_display = np.round(y_i, 2)\n",
    "        \n",
    "        plt.text(i, y_i + 0.5, f'{y_display}ms', ha = 'center')\n",
    "\n",
    "models = ['standard', 'tflite', 'tflite quantized']\n",
    "accuracies = [standard_times.average * 1000, tflite_times.average * 1000, tflite_q_times.average * 1000]\n",
    "\n",
    "bar_colors = ['tab:green', 'tab:blue', 'tab:blue']\n",
    "\n",
    "plt.title('Model runtime')\n",
    "plt.bar(models, accuracies, color=bar_colors)\n",
    "\n",
    "add_labels(models, accuracies)\n",
    "\n",
    "plt.ylabel('runtime in ms')"
   ],
   "metadata": {
    "collapsed": false,
    "ExecuteTime": {
     "end_time": "2024-01-04T19:26:07.704393Z",
     "start_time": "2024-01-04T19:26:07.093605600Z"
    }
   },
   "id": "db716f0d0154bb3c"
  },
  {
   "cell_type": "code",
   "execution_count": 13,
   "outputs": [],
   "source": [],
   "metadata": {
    "collapsed": false,
    "ExecuteTime": {
     "end_time": "2024-01-04T19:26:07.715496500Z",
     "start_time": "2024-01-04T19:26:07.697899800Z"
    }
   },
   "id": "414048d72da3e33b"
  }
 ],
 "metadata": {
  "kernelspec": {
   "display_name": "Python 3",
   "language": "python",
   "name": "python3"
  },
  "language_info": {
   "codemirror_mode": {
    "name": "ipython",
    "version": 2
   },
   "file_extension": ".py",
   "mimetype": "text/x-python",
   "name": "python",
   "nbconvert_exporter": "python",
   "pygments_lexer": "ipython2",
   "version": "2.7.6"
  }
 },
 "nbformat": 4,
 "nbformat_minor": 5
}
