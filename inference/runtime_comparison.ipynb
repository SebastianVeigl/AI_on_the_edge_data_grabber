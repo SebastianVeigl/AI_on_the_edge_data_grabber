{
 "cells": [
  {
   "cell_type": "code",
   "execution_count": 123,
   "id": "initial_id",
   "metadata": {
    "collapsed": true,
    "ExecuteTime": {
     "end_time": "2023-12-29T00:04:02.124114400Z",
     "start_time": "2023-12-29T00:04:02.114540800Z"
    }
   },
   "outputs": [],
   "source": [
    "import os \n",
    "import random\n",
    "\n",
    "import tensorflow as tf\n",
    "import numpy as np\n",
    "from PIL import Image"
   ]
  },
  {
   "cell_type": "code",
   "execution_count": 135,
   "outputs": [],
   "source": [
    "model_version = '7seg2912'\n",
    "\n",
    "MODEL_FILE_PATH = f'../models/{model_version}.keras'\n",
    "TFLITE_FILE_PATH = f'../models/{model_version}.tflite'\n",
    "TFLITE_Q_FILE_PATH = f'../models/{model_version}q.tflite'"
   ],
   "metadata": {
    "collapsed": false,
    "ExecuteTime": {
     "end_time": "2023-12-29T23:50:51.178689900Z",
     "start_time": "2023-12-29T23:50:51.167656700Z"
    }
   },
   "id": "294c7dea8c10387e"
  },
  {
   "cell_type": "code",
   "execution_count": 136,
   "outputs": [],
   "source": [
    "def get_image() -> tuple:\n",
    "    digits_dir = '../training/digits_resized'\n",
    "    \n",
    "    image_path = random.choice(os.listdir(digits_dir))\n",
    "    image_in = Image.open(os.path.join(digits_dir, image_path))\n",
    "    test_image = np.array(image_in, dtype=\"float32\")\n",
    "    img = np.reshape(test_image, [1, 32, 20, 3])\n",
    "    \n",
    "    correct_digit = int(image_path.split('_')[0])\n",
    "    \n",
    "    return correct_digit, img"
   ],
   "metadata": {
    "collapsed": false,
    "ExecuteTime": {
     "end_time": "2023-12-29T23:50:51.419653100Z",
     "start_time": "2023-12-29T23:50:51.407766Z"
    }
   },
   "id": "dc7eb79f150fda67"
  },
  {
   "cell_type": "markdown",
   "source": [
    "# Standard model"
   ],
   "metadata": {
    "collapsed": false
   },
   "id": "c7069d7d525b1093"
  },
  {
   "cell_type": "code",
   "execution_count": 137,
   "outputs": [],
   "source": [
    "model = tf.keras.models.load_model(MODEL_FILE_PATH)"
   ],
   "metadata": {
    "collapsed": false,
    "ExecuteTime": {
     "end_time": "2023-12-29T23:50:53.663043Z",
     "start_time": "2023-12-29T23:50:53.338130100Z"
    }
   },
   "id": "20e98b37f6f610fb"
  },
  {
   "cell_type": "code",
   "execution_count": 138,
   "outputs": [
    {
     "name": "stdout",
     "output_type": "stream",
     "text": [
      "41.9 ms ± 1.84 ms per loop (mean ± std. dev. of 10 runs, 50 loops each)\n"
     ]
    }
   ],
   "source": [
    "_, img = get_image()\n",
    "standard_times = %timeit -r 10 -n 50 -o model.predict(img, verbose=0)"
   ],
   "metadata": {
    "collapsed": false,
    "ExecuteTime": {
     "end_time": "2023-12-29T23:51:14.808572700Z",
     "start_time": "2023-12-29T23:50:53.664520400Z"
    }
   },
   "id": "ee4f5636f2471254"
  },
  {
   "cell_type": "code",
   "execution_count": 139,
   "outputs": [
    {
     "data": {
      "text/plain": "<TimeitResult : 41.9 ms ± 1.84 ms per loop (mean ± std. dev. of 10 runs, 50 loops each)>"
     },
     "execution_count": 139,
     "metadata": {},
     "output_type": "execute_result"
    }
   ],
   "source": [
    "standard_times"
   ],
   "metadata": {
    "collapsed": false,
    "ExecuteTime": {
     "end_time": "2023-12-29T23:51:17.719978800Z",
     "start_time": "2023-12-29T23:51:17.699617200Z"
    }
   },
   "id": "45eb90a027910578"
  },
  {
   "cell_type": "markdown",
   "source": [
    "# TFLite model"
   ],
   "metadata": {
    "collapsed": false
   },
   "id": "a867f07d81a9db47"
  },
  {
   "cell_type": "code",
   "execution_count": 140,
   "outputs": [],
   "source": [
    "# Load the TFLite model in TFLite Interpreter\n",
    "interpreter = tf.lite.Interpreter(TFLITE_FILE_PATH)\n",
    "interpreter.allocate_tensors()\n",
    "\n",
    "# Get input and output tensors.\n",
    "input_details = interpreter.get_input_details()\n",
    "output_details = interpreter.get_output_details()"
   ],
   "metadata": {
    "collapsed": false,
    "ExecuteTime": {
     "end_time": "2023-12-29T23:51:18.901264300Z",
     "start_time": "2023-12-29T23:51:18.880243700Z"
    }
   },
   "id": "e242b0ca6dd1c4cd"
  },
  {
   "cell_type": "code",
   "execution_count": 141,
   "outputs": [
    {
     "name": "stdout",
     "output_type": "stream",
     "text": [
      "86.2 µs ± 11.6 µs per loop (mean ± std. dev. of 10 runs, 1,000 loops each)\n"
     ]
    }
   ],
   "source": [
    "correct_digit, img = get_image()\n",
    "interpreter.set_tensor(input_details[0]['index'], img)\n",
    "\n",
    "tflite_times = %timeit -r 10 -n 1000 -o interpreter.invoke()"
   ],
   "metadata": {
    "collapsed": false,
    "ExecuteTime": {
     "end_time": "2023-12-29T23:51:20.411509100Z",
     "start_time": "2023-12-29T23:51:19.516167700Z"
    }
   },
   "id": "6d9ec5bf5bd6907c"
  },
  {
   "cell_type": "code",
   "execution_count": 142,
   "outputs": [
    {
     "name": "stdout",
     "output_type": "stream",
     "text": [
      "[[1.0000000e+00 1.6525056e-11 1.9402249e-22 1.4331142e-19 4.5395783e-27\n",
      "  5.8753799e-23 1.1936453e-18 2.3520623e-09 5.3731721e-13 5.8168747e-19\n",
      "  1.5427888e-19]]\n",
      "0\n",
      "0\n"
     ]
    }
   ],
   "source": [
    "# The function `get_tensor()` returns a copy of the tensor data.\n",
    "# Use `tensor()` in order to get a pointer to the tensor.\n",
    "output_data = interpreter.get_tensor(output_details[0]['index'])\n",
    "print(output_data)\n",
    "print(output_data.argmax())\n",
    "print(correct_digit)"
   ],
   "metadata": {
    "collapsed": false,
    "ExecuteTime": {
     "end_time": "2023-12-29T23:51:21.353037300Z",
     "start_time": "2023-12-29T23:51:21.335587Z"
    }
   },
   "id": "e8ca86b129811b7d"
  },
  {
   "cell_type": "markdown",
   "source": [
    "# TLITE quantized model"
   ],
   "metadata": {
    "collapsed": false
   },
   "id": "8417f8dfb7873c55"
  },
  {
   "cell_type": "code",
   "execution_count": 143,
   "outputs": [],
   "source": [
    "# Load the TFLite model in TFLite Interpreter\n",
    "interpreter = tf.lite.Interpreter(TFLITE_Q_FILE_PATH)\n",
    "interpreter.allocate_tensors()\n",
    "\n",
    "# Get input and output tensors.\n",
    "input_details = interpreter.get_input_details()\n",
    "output_details = interpreter.get_output_details()"
   ],
   "metadata": {
    "collapsed": false,
    "ExecuteTime": {
     "end_time": "2023-12-29T23:51:22.004583100Z",
     "start_time": "2023-12-29T23:51:21.996577200Z"
    }
   },
   "id": "20b7dd80d3faf925"
  },
  {
   "cell_type": "code",
   "execution_count": 144,
   "outputs": [
    {
     "name": "stdout",
     "output_type": "stream",
     "text": [
      "79.8 µs ± 21.8 µs per loop (mean ± std. dev. of 10 runs, 1,000 loops each)\n"
     ]
    }
   ],
   "source": [
    "correct_digit, img = get_image()\n",
    "interpreter.set_tensor(input_details[0]['index'], img)\n",
    "\n",
    "tflite_q_times = %timeit -r 10 -n 1000 interpreter.invoke()"
   ],
   "metadata": {
    "collapsed": false,
    "ExecuteTime": {
     "end_time": "2023-12-29T23:51:23.064142400Z",
     "start_time": "2023-12-29T23:51:22.233808Z"
    }
   },
   "id": "1769396b7593ca87"
  },
  {
   "cell_type": "code",
   "execution_count": 145,
   "outputs": [
    {
     "name": "stdout",
     "output_type": "stream",
     "text": [
      "[[0.         0.         0.99609375 0.         0.         0.\n",
      "  0.         0.         0.         0.         0.        ]]\n",
      "2\n",
      "2\n"
     ]
    }
   ],
   "source": [
    "# The function `get_tensor()` returns a copy of the tensor data.\n",
    "# Use `tensor()` in order to get a pointer to the tensor.\n",
    "output_data = interpreter.get_tensor(output_details[0]['index'])\n",
    "print(output_data)\n",
    "print(output_data.argmax())\n",
    "print(correct_digit)"
   ],
   "metadata": {
    "collapsed": false,
    "ExecuteTime": {
     "end_time": "2023-12-29T23:51:28.006136400Z",
     "start_time": "2023-12-29T23:51:27.982027100Z"
    }
   },
   "id": "58fcac9928739e9e"
  },
  {
   "cell_type": "code",
   "execution_count": null,
   "outputs": [],
   "source": [],
   "metadata": {
    "collapsed": false
   },
   "id": "db716f0d0154bb3c"
  }
 ],
 "metadata": {
  "kernelspec": {
   "display_name": "Python 3",
   "language": "python",
   "name": "python3"
  },
  "language_info": {
   "codemirror_mode": {
    "name": "ipython",
    "version": 2
   },
   "file_extension": ".py",
   "mimetype": "text/x-python",
   "name": "python",
   "nbconvert_exporter": "python",
   "pygments_lexer": "ipython2",
   "version": "2.7.6"
  }
 },
 "nbformat": 4,
 "nbformat_minor": 5
}
